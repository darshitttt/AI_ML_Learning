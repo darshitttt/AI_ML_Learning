{
 "cells": [
  {
   "cell_type": "markdown",
   "metadata": {},
   "source": [
    "## Supervised ML Process\n",
    "\n",
    "### ML Pathway\n",
    "\n",
    "1. Collect and Store Data\n",
    "2. Clean and Organise Data\n",
    "3. Exploratory Data Analysis (Stat Analysis, Visualisation)\n",
    "4. ML Models (for going beyond Data Analysis and creating product)\n",
    "    a. Supervised Learning: predict an outcome\n",
    "    b. Unsupervised Learning: discover patterns in Data\n",
    "\n",
    "\n",
    "### ML Process: Supervised ML Tasks\n",
    "\n",
    "- **Supervised ML**: Using *historical, labeled* data, predict a future outcome or result.\n",
    "- Start with collecting and organise a data set based on history\n",
    "- **Historical Labeled** dataset\n",
    "- If a new feature vector appears, the model should be able to predict the label\n",
    "\n",
    "\n",
    "### Supervised ML Process:\n",
    "- Data\n",
    "- X:Features, Y:Labels\n",
    "- Splitting training and testing dataset (complex: cross validation, etc)\n",
    "- Training/Fitting model\n",
    "- Evaluate performance: comparing predictions with actual labels from the test set\n",
    "- Fit/adjust model params\n"
   ]
  },
  {
   "cell_type": "code",
   "execution_count": null,
   "metadata": {},
   "outputs": [],
   "source": []
  },
  {
   "cell_type": "markdown",
   "metadata": {},
   "source": []
  }
 ],
 "metadata": {
  "kernelspec": {
   "display_name": "learning",
   "language": "python",
   "name": "python3"
  },
  "language_info": {
   "name": "python",
   "version": "3.10.12"
  },
  "orig_nbformat": 4
 },
 "nbformat": 4,
 "nbformat_minor": 2
}
